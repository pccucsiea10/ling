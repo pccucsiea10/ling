{
 "cells": [
  {
   "cell_type": "code",
   "execution_count": 13,
   "metadata": {},
   "outputs": [],
   "source": [
    "from elasticsearch import Elasticsearch\n",
    "\n",
    "es = Elasticsearch(hosts='140.137.41.81', port=9200)"
   ]
  },
  {
   "cell_type": "code",
   "execution_count": 14,
   "metadata": {},
   "outputs": [],
   "source": [
    "from sklearn.neighbors import KNeighborsClassifier\n",
    "import pandas as pd\n",
    "import numpy as np\n",
    "import matplotlib.pyplot as plt\n",
    "from sklearn import datasets\n",
    "from sklearn.model_selection import train_test_split\n",
    "from sklearn import metrics\n",
    "import operator\n",
    "import math"
   ]
  },
  {
   "cell_type": "code",
   "execution_count": 3,
   "metadata": {},
   "outputs": [
    {
     "name": "stdout",
     "output_type": "stream",
     "text": [
      "9.666666666666666\n"
     ]
    }
   ],
   "source": [
    "from elasticsearch import Elasticsearch\n",
    "import json\n",
    "\n",
    "def get_query():\n",
    "    query = {\n",
    "        \"query\": {\n",
    "            \"bool\": {\n",
    "                \"must\": [{\n",
    "                    \"term\": {\n",
    "                        \"Number\": \"0\"\n",
    "                    }\n",
    "                },\n",
    "                    {\n",
    "                    \"term\": {\n",
    "                        \"name\": \"張哲唯\"\n",
    "                    }\n",
    "                },\n",
    "                {\n",
    "                    \"term\": {\n",
    "                        \"video type\": \"A\"\n",
    "                    }\n",
    "                }]\n",
    "            }\n",
    "        }\n",
    "    }\n",
    "    return query\n",
    "\n",
    "if __name__ == \"__main__\":\n",
    "    es = Elasticsearch(hosts='140.137.41.81', port=9200)\n",
    "    query = get_query()\n",
    "    result = es.search(index='ling-張哲唯01text', body=query)\n",
    "    zz=json.dumps(result, ensure_ascii=False)\n",
    "    bb=json.loads(zz)\n",
    "    print(bb['hits']['hits'][0]['_source']['second order difference'])"
   ]
  },
  {
   "cell_type": "code",
   "execution_count": null,
   "metadata": {},
   "outputs": [],
   "source": []
  }
 ],
 "metadata": {
  "kernelspec": {
   "display_name": "Python 3",
   "language": "python",
   "name": "python3"
  },
  "language_info": {
   "codemirror_mode": {
    "name": "ipython",
    "version": 3
   },
   "file_extension": ".py",
   "mimetype": "text/x-python",
   "name": "python",
   "nbconvert_exporter": "python",
   "pygments_lexer": "ipython3",
   "version": "3.7.6"
  }
 },
 "nbformat": 4,
 "nbformat_minor": 4
}
