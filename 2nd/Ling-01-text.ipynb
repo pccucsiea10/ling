{
 "cells": [
  {
   "cell_type": "code",
   "execution_count": 17,
   "metadata": {},
   "outputs": [
    {
     "data": {
      "text/plain": [
       "{'acknowledged': True}"
      ]
     },
     "execution_count": 17,
     "metadata": {},
     "output_type": "execute_result"
    }
   ],
   "source": [
    "from elasticsearch import Elasticsearch\n",
    "\n",
    "es = Elasticsearch(hosts='140.137.41.81', port=9200)\n"
   ]
  },
  {
   "cell_type": "code",
   "execution_count": 16,
   "metadata": {},
   "outputs": [
    {
     "name": "stdout",
     "output_type": "stream",
     "text": [
      "{\"settings\": {\"index\": {\"number_of_shards\": 3, \"number_of_replicas\": 2}}, \"mappings\": {\"properties\": {\"average\": {\"type\": \"float\"}}}}\n"
     ]
    }
   ],
   "source": [
    "from elasticsearch import Elasticsearch\n",
    "import json\n",
    "\n",
    "\n",
    "def create_index(es):\n",
    "    body = dict()\n",
    "    body['settings'] = get_setting()\n",
    "    body['mappings'] = get_mappings()\n",
    "    print(json.dumps(body)) #可以用json.dumps輸出來看格式有沒又包錯\n",
    "    es.indices.create(index='ling01text', body=body)\n",
    "\n",
    "\n",
    "def get_setting():\n",
    "    settings = {\n",
    "        \"index\": {\n",
    "            \"number_of_shards\": 3,\n",
    "            \"number_of_replicas\": 2\n",
    "        }\n",
    "    }\n",
    "\n",
    "    return settings\n",
    "\n",
    "\n",
    "def get_mappings():\n",
    "    mappings = {\n",
    "        \"properties\": {\n",
    "            \"average\": {\n",
    "                \"type\": \"float\"\n",
    "            }\n",
    "        }\n",
    "    }\n",
    "\n",
    "    return mappings\n",
    "\n",
    "\n",
    "if __name__ == \"__main__\":\n",
    "    es = Elasticsearch(hosts='140.137.41.81', port=9200)\n",
    "    create_index(es)\n"
   ]
  },
  {
   "cell_type": "code",
   "execution_count": 9,
   "metadata": {},
   "outputs": [
    {
     "name": "stdout",
     "output_type": "stream",
     "text": [
      "A視頻心率特徵 :\n",
      "平均:  91.72727272727273\n"
     ]
    }
   ],
   "source": [
    "from elasticsearch import Elasticsearch\n",
    "\n",
    "Max=100 #正常的最大心率\n",
    "Min=50  #正常的最小心率\n",
    "\n",
    "A = 5\n",
    "B = 11\n",
    "D = 9\n",
    "arra = [95, 91, 92, 95, 95]\n",
    "arrb = [86, 86, 91, 101, 91, 93, 101 ,93 ,91 ,91 ,85]\n",
    "arrd = [85, 77, 85, 81, 83, 85, 82, 87, 88]\n",
    "\n",
    "#正常心率平均\n",
    "ave = 0.0\n",
    "for i in range(0,A):\n",
    "    ave+=arra[i]\n",
    "ave = ave/A\n",
    "\n",
    "print(\"A視頻心率特徵 :\")\n",
    "\n",
    "#平均\n",
    "aveB = 0.0\n",
    "for i in range(0,B):\n",
    "    aveB +=arrb[i]\n",
    "aveB = aveB/B\n",
    "print(\"平均: \",aveB)\n",
    "\n",
    "def load_datas():\n",
    "    datas = list()\n",
    "    datas.append(\n",
    "    {\n",
    "        \"average\": float(aveB)\n",
    "    }\n",
    "    )\n",
    "    return datas\n",
    "\n",
    "def create_data(es, datas):\n",
    "    for data in datas:\n",
    "        es.index(index='ling01text', body=data)  \n",
    "\n",
    "if __name__ == \"__main__\":\n",
    "    es = Elasticsearch(hosts='140.137.41.81', port=9200)\n",
    "    datas = load_datas()\n",
    "    create_data(es, datas)"
   ]
  },
  {
   "cell_type": "code",
   "execution_count": null,
   "metadata": {},
   "outputs": [],
   "source": []
  }
 ],
 "metadata": {
  "kernelspec": {
   "display_name": "Python 3",
   "language": "python",
   "name": "python3"
  },
  "language_info": {
   "codemirror_mode": {
    "name": "ipython",
    "version": 3
   },
   "file_extension": ".py",
   "mimetype": "text/x-python",
   "name": "python",
   "nbconvert_exporter": "python",
   "pygments_lexer": "ipython3",
   "version": "3.7.6"
  }
 },
 "nbformat": 4,
 "nbformat_minor": 4
}
