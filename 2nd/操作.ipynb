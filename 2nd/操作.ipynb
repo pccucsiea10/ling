{
 "cells": [
  {
   "cell_type": "code",
   "execution_count": 3,
   "metadata": {},
   "outputs": [],
   "source": [
    "from elasticsearch import Elasticsearch\n",
    "\n",
    "es = Elasticsearch(hosts='140.137.41.81', port=9200)"
   ]
  },
  {
   "cell_type": "code",
   "execution_count": 4,
   "metadata": {},
   "outputs": [],
   "source": [
    "from sklearn.neighbors import KNeighborsClassifier\n",
    "import pandas as pd\n",
    "import numpy as np\n",
    "import matplotlib.pyplot as plt\n",
    "from sklearn import datasets\n",
    "from sklearn.model_selection import train_test_split\n",
    "from sklearn import metrics\n",
    "import operator\n",
    "import math"
   ]
  },
  {
   "cell_type": "code",
   "execution_count": 41,
   "metadata": {},
   "outputs": [
    {
     "name": "stdout",
     "output_type": "stream",
     "text": [
      "arrX0= [77.4, 77.0, 73.6, 73.6, 75.4, 76.0, 74.4, 74.2, 73.8, 75.8, 76.4, 76.4, 74.6, 74.8, 76.4, 76.0, 75.2, 74.4, 73.8, 74.8, 75.4, 75.4, 76.4, 75.6, 78.0, 81.2, 80.6, 79.4, 80.4, 80.0, 80.2, 80.0, 79.6, 80.8, 81.8, 81.8, 81.6, 80.8, 80.8, 80.0, 80.6, 79.0, 79.0, 80.6, 81.6, 81.8, 82.6, 81.0, 81.4, 81.0]\n"
     ]
    }
   ],
   "source": [
    "from elasticsearch import Elasticsearch\n",
    "import json\n",
    "#訓練資料\n",
    "# arrX0為心率平均值\n",
    "arrX0=[0.0]*50\n",
    "for a in range(0,50): \n",
    "    if a<25:\n",
    "        def get_queryX0():\n",
    "            queryX0 = {\n",
    "                \"query\": {\n",
    "                    \"bool\": {\n",
    "                        \"must\": [{\n",
    "                            \"term\": {\n",
    "                                \"Number\": a\n",
    "                            }\n",
    "                        },\n",
    "                            {\n",
    "                            \"term\": {\n",
    "                                \"name\": \"張哲唯\"\n",
    "                            }\n",
    "                        },\n",
    "                        {\n",
    "                            \"term\": {\n",
    "                                \"video type\": \"A\"\n",
    "                            }\n",
    "                        }]\n",
    "                    }\n",
    "                }\n",
    "            }\n",
    "            return queryX0\n",
    "    else:\n",
    "        def get_queryX0():\n",
    "            queryX0 = {\n",
    "                \"query\": {\n",
    "                    \"bool\": {\n",
    "                        \"must\": [{\n",
    "                            \"term\": {\n",
    "                                \"Number\": a-25\n",
    "                            }\n",
    "                        },\n",
    "                            {\n",
    "                            \"term\": {\n",
    "                                \"name\": \"張哲唯\"\n",
    "                            }\n",
    "                        },\n",
    "                        {\n",
    "                            \"term\": {\n",
    "                                \"video type\": \"C\"\n",
    "                            }\n",
    "                        }]\n",
    "                    }\n",
    "                }\n",
    "            }\n",
    "            return queryX0\n",
    "    if __name__ == \"__main__\":\n",
    "        es = Elasticsearch(hosts='140.137.41.81', port=9200)\n",
    "        queryX0 = get_queryX0()\n",
    "        resultX0 = es.search(index='ling-張哲唯01text', body=queryX0)\n",
    "        resultxx0=json.dumps(resultX0, ensure_ascii=False)\n",
    "        resultPulseX0=json.loads(resultxx0)\n",
    "        X0=resultPulseX0['hits']['hits'][0]['_source']['average']\n",
    "        arrX0[a]=X0\n",
    "print(\"arrX0=\",arrX0)"
   ]
  },
  {
   "cell_type": "code",
   "execution_count": 52,
   "metadata": {},
   "outputs": [
    {
     "name": "stdout",
     "output_type": "stream",
     "text": [
      "特徵:average\n",
      "arrX0= [77.4, 77.0, 73.6, 73.6, 75.4, 76.0, 74.4, 74.2, 73.8, 75.8, 76.4, 76.4, 74.6, 74.8, 76.4, 76.0, 75.2, 74.4, 73.8, 74.8, 75.4, 75.4, 76.4, 75.6, 78.0, 81.2, 80.6, 79.4, 80.4, 80.0, 80.2, 80.0, 79.6, 80.8, 81.8, 81.8, 81.6, 80.8, 80.8, 80.0, 80.6, 79.0, 79.0, 80.6, 81.6, 81.8, 82.6, 81.0, 81.4, 81.0]\n",
      " * Serving Flask app \"__main__\" (lazy loading)\n",
      " * Environment: production\n",
      "   WARNING: This is a development server. Do not use it in a production deployment.\n",
      "   Use a production WSGI server instead.\n",
      " * Debug mode: off\n"
     ]
    },
    {
     "name": "stderr",
     "output_type": "stream",
     "text": [
      " * Running on http://127.0.0.1:5000/ (Press CTRL+C to quit)\n",
      "127.0.0.1 - - [05/Oct/2021 18:40:40] \"\u001b[37mGET / HTTP/1.1\u001b[0m\" 200 -\n"
     ]
    }
   ],
   "source": [
    "from flask import Flask , jsonify\n",
    "app = Flask(__name__)\n",
    "p=input(\"特徵:\")\n",
    "arrX0=[0.0]*50\n",
    "for a in range(0,50): \n",
    "    if a<25:\n",
    "        def get_queryX0():\n",
    "            queryX0 = {\n",
    "                \"query\": {\n",
    "                    \"bool\": {\n",
    "                        \"must\": [{\n",
    "                            \"term\": {\n",
    "                                \"Number\": a\n",
    "                            }\n",
    "                        },\n",
    "                            {\n",
    "                            \"term\": {\n",
    "                                \"name\": \"張哲唯\"\n",
    "                            }\n",
    "                        },\n",
    "                        {\n",
    "                            \"term\": {\n",
    "                                \"video type\": \"A\"\n",
    "                            }\n",
    "                        }]\n",
    "                    }\n",
    "                }\n",
    "            }\n",
    "            return queryX0\n",
    "    else:\n",
    "        def get_queryX0():\n",
    "            queryX0 = {\n",
    "                \"query\": {\n",
    "                    \"bool\": {\n",
    "                        \"must\": [{\n",
    "                            \"term\": {\n",
    "                                \"Number\": a-25\n",
    "                            }\n",
    "                        },\n",
    "                            {\n",
    "                            \"term\": {\n",
    "                                \"name\": \"張哲唯\"\n",
    "                            }\n",
    "                        },\n",
    "                        {\n",
    "                            \"term\": {\n",
    "                                \"video type\": \"C\"\n",
    "                            }\n",
    "                        }]\n",
    "                    }\n",
    "                }\n",
    "            }\n",
    "            return queryX0\n",
    "    if __name__ == \"__main__\":\n",
    "        es = Elasticsearch(hosts='140.137.41.81', port=9200)\n",
    "        queryX0 = get_queryX0()\n",
    "        resultX0 = es.search(index='ling-張哲唯01text', body=queryX0)\n",
    "        resultxx0=json.dumps(resultX0, ensure_ascii=False)\n",
    "        resultPulseX0=json.loads(resultxx0)\n",
    "        X0=resultPulseX0['hits']['hits'][0]['_source'][p]\n",
    "        arrX0[a]=X0\n",
    "print(\"arrX0=\",arrX0)\n",
    "@app.route(\"/\")\n",
    "def hello():\n",
    "    return jsonify(arrX0)\n",
    "           \n",
    "if __name__ == \"__main__\":\n",
    "    app.run()"
   ]
  },
  {
   "cell_type": "code",
   "execution_count": 22,
   "metadata": {},
   "outputs": [
    {
     "name": "stdout",
     "output_type": "stream",
     "text": [
      " * Serving Flask app \"__main__\" (lazy loading)\n",
      " * Environment: production\n",
      "   WARNING: This is a development server. Do not use it in a production deployment.\n",
      "   Use a production WSGI server instead.\n",
      " * Debug mode: off\n"
     ]
    },
    {
     "name": "stderr",
     "output_type": "stream",
     "text": [
      " * Running on http://127.0.0.1:5000/ (Press CTRL+C to quit)\n",
      "[2021-10-05 18:11:35,841] ERROR in app: Exception on / [GET]\n",
      "Traceback (most recent call last):\n",
      "  File \"C:\\Users\\user\\anaconda3\\lib\\site-packages\\flask\\app.py\", line 2446, in wsgi_app\n",
      "    response = self.full_dispatch_request()\n",
      "  File \"C:\\Users\\user\\anaconda3\\lib\\site-packages\\flask\\app.py\", line 1951, in full_dispatch_request\n",
      "    rv = self.handle_user_exception(e)\n",
      "  File \"C:\\Users\\user\\anaconda3\\lib\\site-packages\\flask\\app.py\", line 1820, in handle_user_exception\n",
      "    reraise(exc_type, exc_value, tb)\n",
      "  File \"C:\\Users\\user\\anaconda3\\lib\\site-packages\\flask\\_compat.py\", line 39, in reraise\n",
      "    raise value\n",
      "  File \"C:\\Users\\user\\anaconda3\\lib\\site-packages\\flask\\app.py\", line 1949, in full_dispatch_request\n",
      "    rv = self.dispatch_request()\n",
      "  File \"C:\\Users\\user\\anaconda3\\lib\\site-packages\\flask\\app.py\", line 1935, in dispatch_request\n",
      "    return self.view_functions[rule.endpoint](**req.view_args)\n",
      "  File \"<ipython-input-22-517c94c0487b>\", line 39, in hello\n",
      "    X0=resultPulseX0['hits']['hits'][0]['_source']['average']\n",
      "IndexError: list index out of range\n",
      "127.0.0.1 - - [05/Oct/2021 18:11:35] \"\u001b[35m\u001b[1mGET / HTTP/1.1\u001b[0m\" 500 -\n"
     ]
    }
   ],
   "source": [
    "from flask import Flask\n",
    "app = Flask(__name__)\n",
    "from elasticsearch import Elasticsearch\n",
    "import json\n",
    "#訓練資料\n",
    "# arrX0為心率平均值\n",
    "arrX0=[0.0]*50\n",
    "@app.route(\"/\")\n",
    "def hello():\n",
    "    def get_queryX0():\n",
    "            queryX0 = {\n",
    "                \"query\": {\n",
    "                    \"bool\": {\n",
    "                        \"must\": [{\n",
    "                            \"term\": {\n",
    "                                \"Number\": a\n",
    "                            }\n",
    "                        },\n",
    "                            {\n",
    "                            \"term\": {\n",
    "                                \"name\": \"張哲唯\"\n",
    "                            }\n",
    "                        },\n",
    "                        {\n",
    "                            \"term\": {\n",
    "                                \"video type\": \"A\"\n",
    "                            }\n",
    "                        }]\n",
    "                    }\n",
    "                }\n",
    "            }\n",
    "            return queryX0\n",
    "    if __name__ == \"__main__\":\n",
    "        es = Elasticsearch(hosts='140.137.41.81', port=9200)\n",
    "        queryX0 = get_queryX0()\n",
    "        resultX0 = es.search(index='ling-張哲唯01text', body=queryX0)\n",
    "        resultxx0=json.dumps(resultX0, ensure_ascii=False)\n",
    "        resultPulseX0=json.loads(resultxx0)\n",
    "        X0=resultPulseX0['hits']['hits'][0]['_source']['average']\n",
    "        arrX0[a]=X0\n",
    "    t={arrX0}\n",
    "    return jsonify(t)\n",
    "\n",
    "if __name__ == \"__main__\":\n",
    "    app.run()"
   ]
  },
  {
   "cell_type": "code",
   "execution_count": 21,
   "metadata": {},
   "outputs": [
    {
     "name": "stdout",
     "output_type": "stream",
     "text": [
      " * Serving Flask app \"__main__\" (lazy loading)\n",
      " * Environment: production\n",
      "   WARNING: This is a development server. Do not use it in a production deployment.\n",
      "   Use a production WSGI server instead.\n",
      " * Debug mode: off\n"
     ]
    },
    {
     "name": "stderr",
     "output_type": "stream",
     "text": [
      " * Running on http://127.0.0.1:5000/ (Press CTRL+C to quit)\n",
      "127.0.0.1 - - [05/Oct/2021 18:09:11] \"\u001b[37mGET / HTTP/1.1\u001b[0m\" 200 -\n"
     ]
    }
   ],
   "source": [
    "from flask import Flask\n",
    "app = Flask(__name__)\n",
    "\n",
    "@app.route(\"/\")\n",
    "def hello():\n",
    "    return \"arr\"\n",
    "\n",
    "if __name__ == \"__main__\":\n",
    "    app.run()"
   ]
  },
  {
   "cell_type": "code",
   "execution_count": 20,
   "metadata": {},
   "outputs": [
    {
     "name": "stdout",
     "output_type": "stream",
     "text": [
      " * Serving Flask app \"__main__\" (lazy loading)\n",
      " * Environment: production\n",
      "   WARNING: This is a development server. Do not use it in a production deployment.\n",
      "   Use a production WSGI server instead.\n",
      " * Debug mode: on\n"
     ]
    },
    {
     "name": "stderr",
     "output_type": "stream",
     "text": [
      " * Restarting with windowsapi reloader\n"
     ]
    },
    {
     "ename": "SystemExit",
     "evalue": "1",
     "output_type": "error",
     "traceback": [
      "An exception has occurred, use %tb to see the full traceback.\n",
      "\u001b[1;31mSystemExit\u001b[0m\u001b[1;31m:\u001b[0m 1\n"
     ]
    },
    {
     "name": "stderr",
     "output_type": "stream",
     "text": [
      "C:\\Users\\user\\anaconda3\\lib\\site-packages\\IPython\\core\\interactiveshell.py:3339: UserWarning: To exit: use 'exit', 'quit', or Ctrl-D.\n",
      "  warn(\"To exit: use 'exit', 'quit', or Ctrl-D.\", stacklevel=1)\n"
     ]
    }
   ],
   "source": [
    "from flask import Flask\n",
    "import json\n",
    "\n",
    "app = Flask(__name__)\n",
    "\n",
    "\n",
    "@app.route('/')\n",
    "def root():\n",
    "    t = {\n",
    "        'a': 1,\n",
    "        'b': 2,\n",
    "        'c': [3, 4, 5]\n",
    "    }\n",
    "    return json.dumps(t)\n",
    "\n",
    "if __name__ == '__main__':\n",
    "    app.debug = True\n",
    "    app.run()"
   ]
  },
  {
   "cell_type": "code",
   "execution_count": 49,
   "metadata": {},
   "outputs": [
    {
     "name": "stdout",
     "output_type": "stream",
     "text": [
      " * Serving Flask app \"__main__\" (lazy loading)\n",
      " * Environment: production\n",
      "   WARNING: This is a development server. Do not use it in a production deployment.\n",
      "   Use a production WSGI server instead.\n",
      " * Debug mode: off\n"
     ]
    },
    {
     "name": "stderr",
     "output_type": "stream",
     "text": [
      " * Running on http://127.0.0.1:5000/ (Press CTRL+C to quit)\n",
      "[2021-10-05 18:37:19,215] ERROR in app: Exception on / [GET]\n",
      "Traceback (most recent call last):\n",
      "  File \"C:\\Users\\user\\anaconda3\\lib\\site-packages\\flask\\app.py\", line 2446, in wsgi_app\n",
      "    response = self.full_dispatch_request()\n",
      "  File \"C:\\Users\\user\\anaconda3\\lib\\site-packages\\flask\\app.py\", line 1951, in full_dispatch_request\n",
      "    rv = self.handle_user_exception(e)\n",
      "  File \"C:\\Users\\user\\anaconda3\\lib\\site-packages\\flask\\app.py\", line 1820, in handle_user_exception\n",
      "    reraise(exc_type, exc_value, tb)\n",
      "  File \"C:\\Users\\user\\anaconda3\\lib\\site-packages\\flask\\_compat.py\", line 39, in reraise\n",
      "    raise value\n",
      "  File \"C:\\Users\\user\\anaconda3\\lib\\site-packages\\flask\\app.py\", line 1949, in full_dispatch_request\n",
      "    rv = self.dispatch_request()\n",
      "  File \"C:\\Users\\user\\anaconda3\\lib\\site-packages\\flask\\app.py\", line 1935, in dispatch_request\n",
      "    return self.view_functions[rule.endpoint](**req.view_args)\n",
      "  File \"<ipython-input-49-9302c94651e6>\", line 34, in index\n",
      "    results = es.search(index='ling-張哲唯01text',body=queryX0)\n",
      "  File \"C:\\Users\\user\\anaconda3\\lib\\site-packages\\elasticsearch\\client\\utils.py\", line 168, in _wrapped\n",
      "    return func(*args, params=params, headers=headers, **kwargs)\n",
      "  File \"C:\\Users\\user\\anaconda3\\lib\\site-packages\\elasticsearch\\client\\__init__.py\", line 1675, in search\n",
      "    body=body,\n",
      "  File \"C:\\Users\\user\\anaconda3\\lib\\site-packages\\elasticsearch\\transport.py\", line 415, in perform_request\n",
      "    raise e\n",
      "  File \"C:\\Users\\user\\anaconda3\\lib\\site-packages\\elasticsearch\\transport.py\", line 388, in perform_request\n",
      "    timeout=timeout,\n",
      "  File \"C:\\Users\\user\\anaconda3\\lib\\site-packages\\elasticsearch\\connection\\http_urllib3.py\", line 277, in perform_request\n",
      "    self._raise_error(response.status, raw_data)\n",
      "  File \"C:\\Users\\user\\anaconda3\\lib\\site-packages\\elasticsearch\\connection\\base.py\", line 331, in _raise_error\n",
      "    status_code, error_message, additional_info\n",
      "elasticsearch.exceptions.NotFoundError: NotFoundError(404, 'index_not_found_exception', 'no such index [ling-張哲唯01text]', ling-張哲唯01text, index_or_alias)\n",
      "127.0.0.1 - - [05/Oct/2021 18:37:19] \"\u001b[35m\u001b[1mGET / HTTP/1.1\u001b[0m\" 500 -\n"
     ]
    }
   ],
   "source": [
    "from datetime import datetime\n",
    "from flask import Flask, jsonify, request\n",
    "from elasticsearch import Elasticsearch\n",
    "\n",
    "es = Elasticsearch()\n",
    "\n",
    "app = Flask(__name__)\n",
    "\n",
    "@app.route('/')\n",
    "def index():\n",
    "    def get_queryX0():\n",
    "            queryX0 = {\n",
    "                \"query\": {\n",
    "                    \"bool\": {\n",
    "                        \"must\": [{\n",
    "                            \"term\": {\n",
    "                                \"Number\": 1\n",
    "                            }\n",
    "                        },\n",
    "                            {\n",
    "                            \"term\": {\n",
    "                                \"name\": \"張哲唯\"\n",
    "                            }\n",
    "                        },\n",
    "                        {\n",
    "                            \"term\": {\n",
    "                                \"video type\": \"A\"\n",
    "                            }\n",
    "                        }]\n",
    "                    }\n",
    "                }\n",
    "            }\n",
    "            return queryX0\n",
    "    results = es.search(index='ling-張哲唯01text',body=queryX0)\n",
    "    return jsonify(results['_source'])\n",
    "\n",
    "if __name__ == '__main__':\n",
    "    app.run()"
   ]
  },
  {
   "cell_type": "code",
   "execution_count": 50,
   "metadata": {},
   "outputs": [
    {
     "name": "stdout",
     "output_type": "stream",
     "text": [
      " * Serving Flask app \"__main__\" (lazy loading)\n",
      " * Environment: production\n",
      "   WARNING: This is a development server. Do not use it in a production deployment.\n",
      "   Use a production WSGI server instead.\n",
      " * Debug mode: off\n"
     ]
    },
    {
     "name": "stderr",
     "output_type": "stream",
     "text": [
      " * Running on http://127.0.0.1:5000/ (Press CTRL+C to quit)\n",
      "127.0.0.1 - - [05/Oct/2021 18:38:57] \"\u001b[37mGET / HTTP/1.1\u001b[0m\" 200 -\n"
     ]
    }
   ],
   "source": [
    "from elasticsearch import Elasticsearch\n",
    "from flask import Flask, jsonify, request\n",
    "es = Elasticsearch(hosts='140.137.41.81', port=9200)\n",
    "arrX0=[0.0]\n",
    "from flask import Flask\n",
    "app = Flask(__name__)\n",
    "\n",
    "@app.route(\"/\")\n",
    "def get_queryX0():\n",
    "            queryX0 = {\n",
    "                \"query\": {\n",
    "                    \"bool\": {\n",
    "                        \"must\": [{\n",
    "                            \"term\": {\n",
    "                                \"Number\": 1\n",
    "                            }\n",
    "                        },\n",
    "                            {\n",
    "                            \"term\": {\n",
    "                                \"name\": \"張哲唯\"\n",
    "                            }\n",
    "                        },\n",
    "                        {\n",
    "                            \"term\": {\n",
    "                                \"video type\": \"A\"\n",
    "                            }\n",
    "                        }]\n",
    "                    }\n",
    "                }\n",
    "            }\n",
    "            return queryX0\n",
    "if __name__ == \"__main__\":\n",
    "    es = Elasticsearch(hosts='140.137.41.81', port=9200)\n",
    "    queryX0 = get_queryX0()\n",
    "    resultX0 = es.search(index='ling-張哲唯01text', body=queryX0)\n",
    "    resultxx0=json.dumps(resultX0, ensure_ascii=False)\n",
    "    resultPulseX0=json.loads(resultxx0)\n",
    "    X0=resultPulseX0['hits']['hits'][0]['_source']['average']\n",
    "    arrX0[0]=X0\n",
    "def hello():\n",
    "    \n",
    "    return jsonify(arrX0)\n",
    "\n",
    "if __name__ == \"__main__\":\n",
    "    app.run()"
   ]
  },
  {
   "cell_type": "code",
   "execution_count": null,
   "metadata": {},
   "outputs": [],
   "source": []
  }
 ],
 "metadata": {
  "kernelspec": {
   "display_name": "Python 3",
   "language": "python",
   "name": "python3"
  },
  "language_info": {
   "codemirror_mode": {
    "name": "ipython",
    "version": 3
   },
   "file_extension": ".py",
   "mimetype": "text/x-python",
   "name": "python",
   "nbconvert_exporter": "python",
   "pygments_lexer": "ipython3",
   "version": "3.7.6"
  }
 },
 "nbformat": 4,
 "nbformat_minor": 4
}
