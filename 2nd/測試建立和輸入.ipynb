{
 "cells": [
  {
   "cell_type": "code",
   "execution_count": 5,
   "metadata": {},
   "outputs": [],
   "source": [
    "from elasticsearch import Elasticsearch\n",
    "\n",
    "es = Elasticsearch(hosts='140.137.41.81', port=9200)"
   ]
  },
  {
   "cell_type": "code",
   "execution_count": 7,
   "metadata": {},
   "outputs": [
    {
     "name": "stdout",
     "output_type": "stream",
     "text": [
      "{\"settings\": {\"index\": {\"number_of_shards\": 3, \"number_of_replicas\": 2}}, \"mappings\": {\"properties\": {\"name\": {\"type\": \"text\"}, \"feel\": {\"type\": \"text\"}, \"pulse\": {\"type\": \"integer\"}, \"time\": {\"type\": \"integer\"}}}}\n"
     ]
    }
   ],
   "source": [
    "from elasticsearch import Elasticsearch\n",
    "import json\n",
    "\n",
    "\n",
    "def create_index(es):\n",
    "    body = dict()\n",
    "    body['settings'] = get_setting()\n",
    "    body['mappings'] = get_mappings()\n",
    "    print(json.dumps(body)) #可以用json.dumps輸出來看格式有沒又包錯\n",
    "    es.indices.create(index='0-1st', body=body)\n",
    "\n",
    "\n",
    "def get_setting():\n",
    "    settings = {\n",
    "        \"index\": {\n",
    "            \"number_of_shards\": 3,\n",
    "            \"number_of_replicas\": 2\n",
    "        }\n",
    "    }\n",
    "\n",
    "    return settings\n",
    "\n",
    "\n",
    "def get_mappings():\n",
    "    mappings = {\n",
    "        \"properties\": {\n",
    "            \"name\": {\n",
    "                \"type\": \"text\"\n",
    "            },\n",
    "            \"feel\": {\n",
    "                \"type\": \"text\"\n",
    "            },\n",
    "            \"pulse\": {\n",
    "                \"type\": \"integer\"\n",
    "            },\n",
    "            \"time\": {\n",
    "                \"type\": \"integer\"\n",
    "            }\n",
    "        }\n",
    "    }\n",
    "\n",
    "    return mappings\n",
    "\n",
    "\n",
    "if __name__ == \"__main__\":\n",
    "    es = Elasticsearch(hosts='140.137.41.81', port=9200)\n",
    "    create_index(es)\n"
   ]
  },
  {
   "cell_type": "code",
   "execution_count": 8,
   "metadata": {},
   "outputs": [],
   "source": [
    "from elasticsearch import Elasticsearch\n",
    "\n",
    "def load_datas():\n",
    "    datas = list()\n",
    "    with open('1st.csv', 'r') as f:\n",
    "        for data in f.readlines():\n",
    "            name, feel, pulse, time = data.replace('\\n', '').split(',')\n",
    "            datas.append(\n",
    "                {\n",
    "                    \"name\": str(name),\n",
    "                    \"feel\": str(feel),\n",
    "                    \"pulse\": int(pulse),\n",
    "                    \"time\": int(time)\n",
    "                }\n",
    "            )\n",
    "    return datas\n",
    "\n",
    "def create_data(es, datas):\n",
    "    for data in datas:\n",
    "        es.index(index='0-1st', body=data)  \n",
    "\n",
    "if __name__ == \"__main__\":\n",
    "    es = Elasticsearch(hosts='140.137.41.81', port=9200)\n",
    "    datas = load_datas()\n",
    "    create_data(es, datas)"
   ]
  },
  {
   "cell_type": "code",
   "execution_count": null,
   "metadata": {},
   "outputs": [],
   "source": []
  }
 ],
 "metadata": {
  "kernelspec": {
   "display_name": "Python 3",
   "language": "python",
   "name": "python3"
  },
  "language_info": {
   "codemirror_mode": {
    "name": "ipython",
    "version": 3
   },
   "file_extension": ".py",
   "mimetype": "text/x-python",
   "name": "python",
   "nbconvert_exporter": "python",
   "pygments_lexer": "ipython3",
   "version": "3.7.6"
  }
 },
 "nbformat": 4,
 "nbformat_minor": 4
}
