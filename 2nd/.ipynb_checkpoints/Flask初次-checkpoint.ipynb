{
 "cells": [
  {
   "cell_type": "code",
   "execution_count": 5,
   "metadata": {},
   "outputs": [],
   "source": [
    "from elasticsearch import Elasticsearch\n",
    "\n",
    "es = Elasticsearch(hosts='140.137.41.81', port=9200)"
   ]
  },
  {
   "cell_type": "code",
   "execution_count": 6,
   "metadata": {},
   "outputs": [],
   "source": [
    "from sklearn.neighbors import KNeighborsClassifier\n",
    "import pandas as pd\n",
    "import numpy as np\n",
    "import matplotlib.pyplot as plt\n",
    "from sklearn import datasets\n",
    "from sklearn.model_selection import train_test_split\n",
    "from sklearn import metrics\n",
    "import operator\n",
    "import math"
   ]
  },
  {
   "cell_type": "code",
   "execution_count": 14,
   "metadata": {},
   "outputs": [
    {
     "name": "stdout",
     "output_type": "stream",
     "text": [
      "特徵:average\n",
      "arrX0= [77.4, 77.0, 73.6, 73.6, 75.4, 76.0, 74.4, 74.2, 73.8, 75.8, 76.4, 76.4, 74.6, 74.8, 76.4, 76.0, 75.2, 74.4, 73.8, 74.8, 75.4, 75.4, 76.4, 75.6, 78.0, 81.2, 80.6, 79.4, 80.4, 80.0, 80.2, 80.0, 79.6, 80.8, 81.8, 81.8, 81.6, 80.8, 80.8, 80.0, 80.6, 79.0, 79.0, 80.6, 81.6, 81.8, 82.6, 81.0, 81.4, 81.0]\n",
      " * Serving Flask app \"__main__\" (lazy loading)\n",
      " * Environment: production\n",
      "   WARNING: This is a development server. Do not use it in a production deployment.\n",
      "   Use a production WSGI server instead.\n",
      " * Debug mode: off\n"
     ]
    },
    {
     "name": "stderr",
     "output_type": "stream",
     "text": [
      " * Running on http://127.0.0.1:5000/ (Press CTRL+C to quit)\n",
      "127.0.0.1 - - [05/Oct/2021 18:53:09] \"\u001b[33mGET / HTTP/1.1\u001b[0m\" 404 -\n",
      "127.0.0.1 - - [05/Oct/2021 18:53:13] \"\u001b[37mGET /20 HTTP/1.1\u001b[0m\" 200 -\n",
      "127.0.0.1 - - [05/Oct/2021 18:53:23] \"\u001b[37mGET /10 HTTP/1.1\u001b[0m\" 200 -\n"
     ]
    }
   ],
   "source": [
    "from elasticsearch import Elasticsearch\n",
    "import json\n",
    "from flask import Flask , jsonify\n",
    "app = Flask(__name__)\n",
    "p=input(\"特徵:\")\n",
    "arrX0=[0.0]*50\n",
    "for a in range(0,50): \n",
    "    if a<25:\n",
    "        def get_queryX0():\n",
    "            queryX0 = {\n",
    "                \"query\": {\n",
    "                    \"bool\": {\n",
    "                        \"must\": [{\n",
    "                            \"term\": {\n",
    "                                \"Number\": a\n",
    "                            }\n",
    "                        },\n",
    "                            {\n",
    "                            \"term\": {\n",
    "                                \"name\": \"張哲唯\"\n",
    "                            }\n",
    "                        },\n",
    "                        {\n",
    "                            \"term\": {\n",
    "                                \"video type\": \"A\"\n",
    "                            }\n",
    "                        }]\n",
    "                    }\n",
    "                }\n",
    "            }\n",
    "            return queryX0\n",
    "    else:\n",
    "        def get_queryX0():\n",
    "            queryX0 = {\n",
    "                \"query\": {\n",
    "                    \"bool\": {\n",
    "                        \"must\": [{\n",
    "                            \"term\": {\n",
    "                                \"Number\": a-25\n",
    "                            }\n",
    "                        },\n",
    "                            {\n",
    "                            \"term\": {\n",
    "                                \"name\": \"張哲唯\"\n",
    "                            }\n",
    "                        },\n",
    "                        {\n",
    "                            \"term\": {\n",
    "                                \"video type\": \"C\"\n",
    "                            }\n",
    "                        }]\n",
    "                    }\n",
    "                }\n",
    "            }\n",
    "            return queryX0\n",
    "    if __name__ == \"__main__\":\n",
    "        es = Elasticsearch(hosts='140.137.41.81', port=9200)\n",
    "        queryX0 = get_queryX0()\n",
    "        resultX0 = es.search(index='ling-張哲唯01text', body=queryX0)\n",
    "        resultxx0=json.dumps(resultX0, ensure_ascii=False)\n",
    "        resultPulseX0=json.loads(resultxx0)\n",
    "        X0=resultPulseX0['hits']['hits'][0]['_source'][p]\n",
    "        arrX0[a]=X0\n",
    "print(\"arrX0=\",arrX0)\n",
    "a=\"/\"+str(10)\n",
    "@app.route(a)\n",
    "def hello():\n",
    "    return jsonify(arrX0)\n",
    "a=\"/\"+str(20)\n",
    "@app.route(a)\n",
    "def aa():\n",
    "    return jsonify(arrX0)\n",
    "           \n",
    "if __name__ == \"__main__\":\n",
    "    app.run()"
   ]
  },
  {
   "cell_type": "code",
   "execution_count": null,
   "metadata": {},
   "outputs": [],
   "source": []
  }
 ],
 "metadata": {
  "kernelspec": {
   "display_name": "Python 3",
   "language": "python",
   "name": "python3"
  },
  "language_info": {
   "codemirror_mode": {
    "name": "ipython",
    "version": 3
   },
   "file_extension": ".py",
   "mimetype": "text/x-python",
   "name": "python",
   "nbconvert_exporter": "python",
   "pygments_lexer": "ipython3",
   "version": "3.7.6"
  }
 },
 "nbformat": 4,
 "nbformat_minor": 4
}
