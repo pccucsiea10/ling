{
 "cells": [
  {
   "cell_type": "code",
   "execution_count": 8,
   "metadata": {},
   "outputs": [],
   "source": [
    "from elasticsearch import Elasticsearch\n",
    "es = Elasticsearch(hosts='140.137.41.81', port=9200)"
   ]
  },
  {
   "cell_type": "code",
   "execution_count": 9,
   "metadata": {},
   "outputs": [],
   "source": [
    "from sklearn.neighbors import KNeighborsClassifier\n",
    "import pandas as pd\n",
    "import numpy as np\n",
    "import matplotlib.pyplot as plt\n",
    "from sklearn import datasets\n",
    "from sklearn.model_selection import train_test_split\n",
    "from sklearn import metrics\n",
    "import operator\n",
    "import math"
   ]
  },
  {
   "cell_type": "code",
   "execution_count": 13,
   "metadata": {},
   "outputs": [
    {
     "ename": "IndexError",
     "evalue": "list index out of range",
     "output_type": "error",
     "traceback": [
      "\u001b[1;31m---------------------------------------------------------------------------\u001b[0m",
      "\u001b[1;31mIndexError\u001b[0m                                Traceback (most recent call last)",
      "\u001b[1;32m<ipython-input-13-3f8e5d43030c>\u001b[0m in \u001b[0;36m<module>\u001b[1;34m\u001b[0m\n\u001b[0;32m     50\u001b[0m             \u001b[0mresulta\u001b[0m\u001b[1;33m=\u001b[0m\u001b[0mjson\u001b[0m\u001b[1;33m.\u001b[0m\u001b[0mdumps\u001b[0m\u001b[1;33m(\u001b[0m\u001b[0mresultA\u001b[0m\u001b[1;33m,\u001b[0m \u001b[0mensure_ascii\u001b[0m\u001b[1;33m=\u001b[0m\u001b[1;32mFalse\u001b[0m\u001b[1;33m)\u001b[0m\u001b[1;33m\u001b[0m\u001b[1;33m\u001b[0m\u001b[0m\n\u001b[0;32m     51\u001b[0m             \u001b[0mresultPulseA\u001b[0m\u001b[1;33m=\u001b[0m\u001b[0mjson\u001b[0m\u001b[1;33m.\u001b[0m\u001b[0mloads\u001b[0m\u001b[1;33m(\u001b[0m\u001b[0mresulta\u001b[0m\u001b[1;33m)\u001b[0m\u001b[1;33m\u001b[0m\u001b[1;33m\u001b[0m\u001b[0m\n\u001b[1;32m---> 52\u001b[1;33m             \u001b[0mA\u001b[0m\u001b[1;33m=\u001b[0m\u001b[0mresultPulseA\u001b[0m\u001b[1;33m[\u001b[0m\u001b[1;34m'hits'\u001b[0m\u001b[1;33m]\u001b[0m\u001b[1;33m[\u001b[0m\u001b[1;34m'hits'\u001b[0m\u001b[1;33m]\u001b[0m\u001b[1;33m[\u001b[0m\u001b[1;36m0\u001b[0m\u001b[1;33m]\u001b[0m\u001b[1;33m[\u001b[0m\u001b[1;34m'_source'\u001b[0m\u001b[1;33m]\u001b[0m\u001b[1;33m[\u001b[0m\u001b[1;34m'average'\u001b[0m\u001b[1;33m]\u001b[0m\u001b[1;33m\u001b[0m\u001b[1;33m\u001b[0m\u001b[0m\n\u001b[0m\u001b[0;32m     53\u001b[0m             \u001b[0mB\u001b[0m\u001b[1;33m=\u001b[0m\u001b[0mresultPulseA\u001b[0m\u001b[1;33m[\u001b[0m\u001b[1;34m'hits'\u001b[0m\u001b[1;33m]\u001b[0m\u001b[1;33m[\u001b[0m\u001b[1;34m'hits'\u001b[0m\u001b[1;33m]\u001b[0m\u001b[1;33m[\u001b[0m\u001b[1;36m0\u001b[0m\u001b[1;33m]\u001b[0m\u001b[1;33m[\u001b[0m\u001b[1;34m'_source'\u001b[0m\u001b[1;33m]\u001b[0m\u001b[1;33m[\u001b[0m\u001b[1;34m'first order difference'\u001b[0m\u001b[1;33m]\u001b[0m\u001b[1;33m\u001b[0m\u001b[1;33m\u001b[0m\u001b[0m\n\u001b[0;32m     54\u001b[0m             \u001b[0mC\u001b[0m\u001b[1;33m=\u001b[0m\u001b[0mresultPulseA\u001b[0m\u001b[1;33m[\u001b[0m\u001b[1;34m'hits'\u001b[0m\u001b[1;33m]\u001b[0m\u001b[1;33m[\u001b[0m\u001b[1;34m'hits'\u001b[0m\u001b[1;33m]\u001b[0m\u001b[1;33m[\u001b[0m\u001b[1;36m0\u001b[0m\u001b[1;33m]\u001b[0m\u001b[1;33m[\u001b[0m\u001b[1;34m'_source'\u001b[0m\u001b[1;33m]\u001b[0m\u001b[1;33m[\u001b[0m\u001b[1;34m'second order difference'\u001b[0m\u001b[1;33m]\u001b[0m\u001b[1;33m\u001b[0m\u001b[1;33m\u001b[0m\u001b[0m\n",
      "\u001b[1;31mIndexError\u001b[0m: list index out of range"
     ]
    }
   ],
   "source": [
    "from elasticsearch import Elasticsearch\n",
    "import json\n",
    "\n",
    "#訓練資料\n",
    "name=\"yu\"\n",
    "happysubject=\"電機及資訊科系測量\"\n",
    "sadsubject=\"設計群測量\"\n",
    "\n",
    "arrsubject=[0.0]*16\n",
    "\n",
    "\n",
    "\n",
    "for i in range(0,16):\n",
    "    for z in range(0,2):\n",
    "        if z==0:\n",
    "            time=i\n",
    "            subject=happysubject\n",
    "        elif z==1:\n",
    "            time=i-8\n",
    "            subject=sadsubject\n",
    "        def get_queryA():\n",
    "            queryA = {\n",
    "                \"query\": {\n",
    "                    \"bool\": {\n",
    "                        \"must\": [\n",
    "                            {\n",
    "                            \"term\": {\n",
    "                                \"time Number\": time\n",
    "                            }\n",
    "                        },\n",
    "                            {\n",
    "                            \"term\": {\n",
    "                                \"name\": name\n",
    "                            }\n",
    "                        },\n",
    "                            {\n",
    "                            \"term\": {\n",
    "                                \"subject\": subject\n",
    "                            }\n",
    "                        }\n",
    "                        ]\n",
    "                    }\n",
    "                }\n",
    "            }\n",
    "            return queryA\n",
    "        if __name__ == \"__main__\":\n",
    "            es = Elasticsearch(hosts='140.137.41.81', port=9200)\n",
    "            queryA = get_queryA()\n",
    "            resultA = es.search(index='hh3text', body=queryA)\n",
    "            resulta=json.dumps(resultA, ensure_ascii=False)\n",
    "            resultPulseA=json.loads(resulta)\n",
    "            A=resultPulseA['hits']['hits'][0]['_source']['average']\n",
    "            B=resultPulseA['hits']['hits'][0]['_source']['first order difference']\n",
    "            C=resultPulseA['hits']['hits'][0]['_source']['second order difference']\n",
    "            D=resultPulseA['hits']['hits'][0]['_source']['max heart']\n",
    "            E=resultPulseA['hits']['hits'][0]['_source']['min heart']\n",
    "            F=resultPulseA['hits']['hits'][0]['_source']['max to min scope heart']\n",
    "            G=resultPulseA['hits']['hits'][0]['_source']['entropy of information']\n",
    "            H=resultPulseA['hits']['hits'][0]['_source']['root mean square']\n",
    "            J=resultPulseA['hits']['hits'][0]['_source']['standardize average']\n",
    "            if z==0:\n",
    "                arrsubject[i]=A,B,C,D,E,F,G,H,J\n",
    "            elif z==1:\n",
    "                arrsubject[i+8]=A,B,C,D,E,F,G,H,J\n",
    "        \n",
    "    \n",
    "print(arrsubject)\n",
    "y=[1,1,1,1,1,1,1,1,0,0,0,0,0,0,0,0]"
   ]
  },
  {
   "cell_type": "code",
   "execution_count": null,
   "metadata": {},
   "outputs": [],
   "source": []
  }
 ],
 "metadata": {
  "kernelspec": {
   "display_name": "Python 3",
   "language": "python",
   "name": "python3"
  },
  "language_info": {
   "codemirror_mode": {
    "name": "ipython",
    "version": 3
   },
   "file_extension": ".py",
   "mimetype": "text/x-python",
   "name": "python",
   "nbconvert_exporter": "python",
   "pygments_lexer": "ipython3",
   "version": "3.7.6"
  }
 },
 "nbformat": 4,
 "nbformat_minor": 4
}
