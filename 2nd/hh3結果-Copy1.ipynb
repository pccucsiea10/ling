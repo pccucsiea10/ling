{
 "cells": [
  {
   "cell_type": "code",
   "execution_count": 1,
   "metadata": {},
   "outputs": [],
   "source": [
    "from elasticsearch import Elasticsearch\n",
    "es = Elasticsearch(hosts='140.137.41.81', port=9200)"
   ]
  },
  {
   "cell_type": "code",
   "execution_count": 2,
   "metadata": {},
   "outputs": [],
   "source": [
    "from sklearn.neighbors import KNeighborsClassifier\n",
    "import pandas as pd\n",
    "import numpy as np\n",
    "import matplotlib.pyplot as plt\n",
    "from sklearn import datasets\n",
    "from sklearn.model_selection import train_test_split\n",
    "from sklearn import metrics\n",
    "import operator\n",
    "import math"
   ]
  },
  {
   "cell_type": "code",
   "execution_count": 2,
   "metadata": {},
   "outputs": [
    {
     "name": "stdout",
     "output_type": "stream",
     "text": [
      "[[87.0, 2.5, 5.0, 89, 84, 5, 1.584962500721156, 5.666666666666667, -303.3333333333333], [89.33333333333333, 1.5, 3.0, 91, 88, 3, 1.584962500721156, 1.6666666666666667, 6.333333333333333], [88.66666666666667, 3.5, 3.0, 91, 86, 5, 1.584962500721156, 9.666666666666666, 8.666666666666666], [87.66666666666667, 2.5, 5.0, 91, 86, 5, 1.3082708345352603, 8.333333333333334, 10.999999999999995], [85.0, 1.5, 3.0, 86, 83, 3, 1.3082708345352603, 3.0, 9.666666666666671], [84.0, 1.5, 3.0, 86, 83, 3, 1.3082708345352603, 3.0, 10.0], [83.33333333333333, 0.5, 1.0, 84, 83, 1, 1.3082708345352603, 0.3333333333333333, 10.333333333333334], [76.0, 12.0, 22.0, 84, 61, 23, 1.584962500721156, 176.66666666666666, 3.0], [79.0, 4.5, 7.0, 84, 76, 8, 1.584962500721156, 21.666666666666668, -311.3333333333333], [77.66666666666667, 2.0, 4.0, 80, 76, 4, 1.584962500721156, 3.3333333333333335, -5.333333333333333], [80.0, 3.0, 6.0, 83, 77, 6, 1.584962500721156, 6.0, 0.0], [83.0, 3.0, 6.0, 86, 80, 6, 1.584962500721156, 6.0, 6.333333333333329], [84.33333333333333, 2.5, 1.0, 86, 83, 3, 1.584962500721156, 4.333333333333333, 9.000000000000005], [85.33333333333333, 2.0, 0.0, 86, 84, 2, 1.3082708345352603, 2.6666666666666665, 11.333333333333334], [85.0, 1.5, 1.0, 86, 84, 2, 1.584962500721156, 1.6666666666666667, 12.0], [80.33333333333333, 8.0, 16.0, 86, 70, 16, 1.584962500721156, 75.33333333333333, 7.333333333333333]]\n"
     ]
    }
   ],
   "source": [
    "from elasticsearch import Elasticsearch\n",
    "import json\n",
    "\n",
    "#訓練資料\n",
    "name=\"yu\"\n",
    "happysubject=\"電機及資訊科系測量\"\n",
    "sadsubject=\"設計群測量\"\n",
    "\n",
    "arrsubject=[0.0]*16\n",
    "\n",
    "for i in range(0,16):\n",
    "    if i<8:\n",
    "        def get_queryA():\n",
    "            queryA = {\n",
    "                \"query\": {\n",
    "                    \"bool\": {\n",
    "                        \"must\": [{\n",
    "                            \"term\": {\n",
    "                                \"time Number\": i\n",
    "                            }\n",
    "                        },\n",
    "                            {\n",
    "                            \"term\": {\n",
    "                                \"name\": name\n",
    "                            }\n",
    "                        },\n",
    "                        {\n",
    "                            \"term\": {\n",
    "                                \"subject\": happysubject\n",
    "                            }\n",
    "                        }]\n",
    "                    }\n",
    "                }\n",
    "            }\n",
    "            return queryA\n",
    "        if __name__ == \"__main__\":\n",
    "            es = Elasticsearch(hosts='140.137.41.81', port=9200)\n",
    "            queryA = get_queryA()\n",
    "            resultA = es.search(index='hh3text', body=queryA)\n",
    "            resulta=json.dumps(resultA, ensure_ascii=False)\n",
    "            resultPulseA=json.loads(resulta)\n",
    "            A=resultPulseA['hits']['hits'][0]['_source']['average']\n",
    "            B=resultPulseA['hits']['hits'][0]['_source']['first order difference']\n",
    "            C=resultPulseA['hits']['hits'][0]['_source']['second order difference']\n",
    "            D=resultPulseA['hits']['hits'][0]['_source']['max heart']\n",
    "            E=resultPulseA['hits']['hits'][0]['_source']['min heart']\n",
    "            F=resultPulseA['hits']['hits'][0]['_source']['max to min scope heart']\n",
    "            G=resultPulseA['hits']['hits'][0]['_source']['entropy of information']\n",
    "            H=resultPulseA['hits']['hits'][0]['_source']['root mean square']\n",
    "            J=resultPulseA['hits']['hits'][0]['_source']['standardize average']\n",
    "            arrsubject[i]=[A,B,C,D,E,F,G,H,J]\n",
    "    else:\n",
    "        def get_queryB():\n",
    "            queryB = {\n",
    "                \"query\": {\n",
    "                    \"bool\": {\n",
    "                        \"must\": [{\n",
    "                            \"term\": {\n",
    "                                \"time Number\": i-8\n",
    "                            }\n",
    "                        },\n",
    "                            {\n",
    "                            \"term\": {\n",
    "                                \"name\": name\n",
    "                            }\n",
    "                        },\n",
    "                        {\n",
    "                            \"term\": {\n",
    "                                \"subject\": sadsubject\n",
    "                            }\n",
    "                        }]\n",
    "                    }\n",
    "                }\n",
    "            }\n",
    "            return queryB\n",
    "        if __name__ == \"__main__\":\n",
    "            es = Elasticsearch(hosts='140.137.41.81', port=9200)\n",
    "            queryB = get_queryB()\n",
    "            resultB = es.search(index='hh3text', body=queryB)\n",
    "            resultb=json.dumps(resultB, ensure_ascii=False)\n",
    "            resultPulseB=json.loads(resultb)\n",
    "            A=resultPulseB['hits']['hits'][0]['_source']['average']\n",
    "            B=resultPulseB['hits']['hits'][0]['_source']['first order difference']\n",
    "            C=resultPulseB['hits']['hits'][0]['_source']['second order difference']\n",
    "            D=resultPulseB['hits']['hits'][0]['_source']['max heart']\n",
    "            E=resultPulseB['hits']['hits'][0]['_source']['min heart']\n",
    "            F=resultPulseB['hits']['hits'][0]['_source']['max to min scope heart']\n",
    "            G=resultPulseB['hits']['hits'][0]['_source']['entropy of information']\n",
    "            H=resultPulseB['hits']['hits'][0]['_source']['root mean square']\n",
    "            J=resultPulseB['hits']['hits'][0]['_source']['standardize average']\n",
    "            arrsubject[i]=[A,B,C,D,E,F,G,H,J]\n",
    "print(arrsubject)\n",
    "y=[1,1,1,1,1,1,1,1,0,0,0,0,0,0,0,0]"
   ]
  },
  {
   "cell_type": "code",
   "execution_count": null,
   "metadata": {},
   "outputs": [],
   "source": []
  }
 ],
 "metadata": {
  "kernelspec": {
   "display_name": "Python 3",
   "language": "python",
   "name": "python3"
  },
  "language_info": {
   "codemirror_mode": {
    "name": "ipython",
    "version": 3
   },
   "file_extension": ".py",
   "mimetype": "text/x-python",
   "name": "python",
   "nbconvert_exporter": "python",
   "pygments_lexer": "ipython3",
   "version": "3.7.6"
  }
 },
 "nbformat": 4,
 "nbformat_minor": 4
}
