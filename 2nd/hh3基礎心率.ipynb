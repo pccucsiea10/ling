{
 "cells": [
  {
   "cell_type": "code",
   "execution_count": 1,
   "metadata": {},
   "outputs": [],
   "source": [
    "from elasticsearch import Elasticsearch\n",
    "es = Elasticsearch(hosts='140.137.41.81', port=9200)"
   ]
  },
  {
   "cell_type": "code",
   "execution_count": 3,
   "metadata": {},
   "outputs": [],
   "source": [
    "#傳送ling-張哲唯natural數據-1st.csv到ling-張哲唯數據01資料庫\n",
    "\n",
    "from elasticsearch import Elasticsearch\n",
    "\n",
    "def load_datas():\n",
    "    datas = list()\n",
    "    with open('hh3基礎心率.csv', 'r') as f:\n",
    "        for data in f.readlines():\n",
    "            name, subject, number, pulse, time, timeForCompare = data.replace('\\n', '').split(',')\n",
    "            datas.append(\n",
    "                {\n",
    "                    \"name\": name,\n",
    "                    \"subject\": subject,\n",
    "                    \"serial number\": int(number),\n",
    "                    \"pulse\": int(pulse),\n",
    "                    \"time\": str(time),\n",
    "                    \"timeForCompare\":int(timeForCompare)\n",
    "                }\n",
    "            )\n",
    "    return datas\n",
    "\n",
    "def create_data(es, datas):\n",
    "    for data in datas:\n",
    "        es.index(index='hh3', body=data)  \n",
    "\n",
    "if __name__ == \"__main__\":\n",
    "    es = Elasticsearch(hosts='140.137.41.81', port=9200)\n",
    "    datas = load_datas()\n",
    "    create_data(es, datas)"
   ]
  },
  {
   "cell_type": "code",
   "execution_count": null,
   "metadata": {},
   "outputs": [],
   "source": []
  },
  {
   "cell_type": "code",
   "execution_count": null,
   "metadata": {},
   "outputs": [],
   "source": []
  }
 ],
 "metadata": {
  "kernelspec": {
   "display_name": "Python 3",
   "language": "python",
   "name": "python3"
  }
 },
 "nbformat": 4,
 "nbformat_minor": 4
}
