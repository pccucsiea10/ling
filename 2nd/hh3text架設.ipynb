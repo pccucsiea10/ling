{
 "cells": [
  {
   "cell_type": "code",
   "execution_count": 2,
   "metadata": {},
   "outputs": [
    {
     "data": {
      "text/plain": [
       "{'acknowledged': True}"
      ]
     },
     "execution_count": 2,
     "metadata": {},
     "output_type": "execute_result"
    }
   ],
   "source": [
    "from elasticsearch import Elasticsearch\n",
    "es = Elasticsearch(hosts='140.137.41.81', port=9200)\n",
    "es.indices.delete(index='hh3text')"
   ]
  },
  {
   "cell_type": "code",
   "execution_count": 3,
   "metadata": {},
   "outputs": [],
   "source": [
    "from sklearn.neighbors import KNeighborsClassifier\n",
    "import pandas as pd\n",
    "import numpy as np\n",
    "import matplotlib.pyplot as plt\n",
    "from sklearn import datasets\n",
    "from sklearn.model_selection import train_test_split\n",
    "from sklearn import metrics\n",
    "import operator\n",
    "import math"
   ]
  },
  {
   "cell_type": "code",
   "execution_count": 4,
   "metadata": {},
   "outputs": [
    {
     "name": "stdout",
     "output_type": "stream",
     "text": [
      "{\"settings\": {\"index\": {\"number_of_shards\": 3, \"number_of_replicas\": 2}}, \"mappings\": {\"properties\": {\"time Number\": {\"type\": \"integer\"}, \"name\": {\"type\": \"keyword\"}, \"subject\": {\"type\": \"keyword\"}, \"average\": {\"type\": \"float\"}, \"first order difference\": {\"type\": \"float\"}, \"second order difference\": {\"type\": \"float\"}, \"max heart\": {\"type\": \"integer\"}, \"min heart\": {\"type\": \"integer\"}, \"max to min scope heart\": {\"type\": \"integer\"}, \"entropy of information\": {\"type\": \"float\"}, \"root mean square\": {\"type\": \"float\"}, \"standardize average\": {\"type\": \"float\"}}}}\n"
     ]
    }
   ],
   "source": [
    "from elasticsearch import Elasticsearch\n",
    "import json\n",
    "\n",
    "def create_index(es):\n",
    "    body = dict()\n",
    "    body['settings'] = get_setting()\n",
    "    body['mappings'] = get_mappings()\n",
    "    print(json.dumps(body)) #可以用json.dumps輸出來看格式有沒又包錯\n",
    "    es.indices.create(index='hh3text', body=body)\n",
    "\n",
    "def get_setting():\n",
    "    settings = {\n",
    "        \"index\": {\n",
    "            \"number_of_shards\": 3,\n",
    "            \"number_of_replicas\": 2\n",
    "        }\n",
    "    }\n",
    "    return settings\n",
    "\n",
    "def get_mappings():\n",
    "    mappings = {\n",
    "        \"properties\": {\n",
    "            #編號\n",
    "            \"time Number\": {\n",
    "                \"type\": \"integer\"\n",
    "            },\n",
    "            #編號\n",
    "            \"name\": {\n",
    "                \"type\": \"keyword\"\n",
    "            },\n",
    "            #影片類別\n",
    "            \"subject\": {\n",
    "                \"type\": \"keyword\"\n",
    "            },\n",
    "            #平均\n",
    "            \"average\": {\n",
    "                \"type\": \"float\"\n",
    "            },\n",
    "            #一階差\n",
    "            \"first order difference\": {\n",
    "                \"type\": \"float\"\n",
    "            },\n",
    "            #二階差\n",
    "            \"second order difference\": {\n",
    "                \"type\": \"float\"\n",
    "            },\n",
    "            #最大心率\n",
    "            \"max heart\": {\n",
    "                \"type\": \"integer\"\n",
    "            },\n",
    "            #最小心率\n",
    "            \"min heart\": {\n",
    "                \"type\": \"integer\"\n",
    "            },\n",
    "            #心率變化範圍\n",
    "            \"max to min scope heart\": {\n",
    "                \"type\": \"integer\"\n",
    "            },\n",
    "            #資訊熵\n",
    "            \"entropy of information\": {\n",
    "                \"type\": \"float\"\n",
    "            },\n",
    "            #均方根\n",
    "            \"root mean square\": {\n",
    "                \"type\": \"float\"\n",
    "            },\n",
    "            #標準化均值\n",
    "            \"standardize average\": {\n",
    "                \"type\": \"float\"\n",
    "            }\n",
    "        }\n",
    "    }\n",
    "    return mappings\n",
    "\n",
    "if __name__ == \"__main__\":\n",
    "    es = Elasticsearch(hosts='140.137.41.81', port=9200)\n",
    "    create_index(es)"
   ]
  },
  {
   "cell_type": "code",
   "execution_count": null,
   "metadata": {},
   "outputs": [],
   "source": []
  }
 ],
 "metadata": {
  "kernelspec": {
   "display_name": "Python 3",
   "language": "python",
   "name": "python3"
  },
  "language_info": {
   "codemirror_mode": {
    "name": "ipython",
    "version": 3
   },
   "file_extension": ".py",
   "mimetype": "text/x-python",
   "name": "python",
   "nbconvert_exporter": "python",
   "pygments_lexer": "ipython3",
   "version": "3.7.6"
  }
 },
 "nbformat": 4,
 "nbformat_minor": 4
}
